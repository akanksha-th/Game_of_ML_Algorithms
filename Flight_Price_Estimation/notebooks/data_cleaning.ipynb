{
 "cells": [
  {
   "cell_type": "markdown",
   "id": "07d35252",
   "metadata": {},
   "source": [
    "### 0. Installing necessary libraries"
   ]
  },
  {
   "cell_type": "code",
   "execution_count": 1,
   "id": "6cef7c26-0a4c-416d-9556-f0650274dfab",
   "metadata": {},
   "outputs": [],
   "source": [
    "import os\n",
    "import numpy as np\n",
    "import pandas as pd\n",
    "from skimpy import skim\n",
    "from sklearn.model_selection import train_test_split"
   ]
  },
  {
   "cell_type": "markdown",
   "id": "6f6209f7",
   "metadata": {},
   "source": [
    "### 1. Getting the dataset"
   ]
  },
  {
   "cell_type": "code",
   "execution_count": 2,
   "id": "1295def4-282d-4d13-8571-9f5a5b60951e",
   "metadata": {},
   "outputs": [
    {
     "name": "stdout",
     "output_type": "stream",
     "text": [
      "(10683, 11)\n"
     ]
    },
    {
     "data": {
      "text/html": [
       "<div>\n",
       "<style scoped>\n",
       "    .dataframe tbody tr th:only-of-type {\n",
       "        vertical-align: middle;\n",
       "    }\n",
       "\n",
       "    .dataframe tbody tr th {\n",
       "        vertical-align: top;\n",
       "    }\n",
       "\n",
       "    .dataframe thead th {\n",
       "        text-align: right;\n",
       "    }\n",
       "</style>\n",
       "<table border=\"1\" class=\"dataframe\">\n",
       "  <thead>\n",
       "    <tr style=\"text-align: right;\">\n",
       "      <th></th>\n",
       "      <th>Airline</th>\n",
       "      <th>Date_of_Journey</th>\n",
       "      <th>Source</th>\n",
       "      <th>Destination</th>\n",
       "      <th>Route</th>\n",
       "      <th>Dep_Time</th>\n",
       "      <th>Arrival_Time</th>\n",
       "      <th>Duration</th>\n",
       "      <th>Total_Stops</th>\n",
       "      <th>Additional_Info</th>\n",
       "      <th>Price</th>\n",
       "    </tr>\n",
       "  </thead>\n",
       "  <tbody>\n",
       "    <tr>\n",
       "      <th>0</th>\n",
       "      <td>IndiGo</td>\n",
       "      <td>24/03/2019</td>\n",
       "      <td>Banglore</td>\n",
       "      <td>New Delhi</td>\n",
       "      <td>BLR → DEL</td>\n",
       "      <td>22:20</td>\n",
       "      <td>01:10 22 Mar</td>\n",
       "      <td>2h 50m</td>\n",
       "      <td>non-stop</td>\n",
       "      <td>No info</td>\n",
       "      <td>3897</td>\n",
       "    </tr>\n",
       "    <tr>\n",
       "      <th>1</th>\n",
       "      <td>Air India</td>\n",
       "      <td>1/05/2019</td>\n",
       "      <td>Kolkata</td>\n",
       "      <td>Banglore</td>\n",
       "      <td>CCU → IXR → BBI → BLR</td>\n",
       "      <td>05:50</td>\n",
       "      <td>13:15</td>\n",
       "      <td>7h 25m</td>\n",
       "      <td>2 stops</td>\n",
       "      <td>No info</td>\n",
       "      <td>7662</td>\n",
       "    </tr>\n",
       "    <tr>\n",
       "      <th>2</th>\n",
       "      <td>Jet Airways</td>\n",
       "      <td>9/06/2019</td>\n",
       "      <td>Delhi</td>\n",
       "      <td>Cochin</td>\n",
       "      <td>DEL → LKO → BOM → COK</td>\n",
       "      <td>09:25</td>\n",
       "      <td>04:25 10 Jun</td>\n",
       "      <td>19h</td>\n",
       "      <td>2 stops</td>\n",
       "      <td>No info</td>\n",
       "      <td>13882</td>\n",
       "    </tr>\n",
       "    <tr>\n",
       "      <th>3</th>\n",
       "      <td>IndiGo</td>\n",
       "      <td>12/05/2019</td>\n",
       "      <td>Kolkata</td>\n",
       "      <td>Banglore</td>\n",
       "      <td>CCU → NAG → BLR</td>\n",
       "      <td>18:05</td>\n",
       "      <td>23:30</td>\n",
       "      <td>5h 25m</td>\n",
       "      <td>1 stop</td>\n",
       "      <td>No info</td>\n",
       "      <td>6218</td>\n",
       "    </tr>\n",
       "    <tr>\n",
       "      <th>4</th>\n",
       "      <td>IndiGo</td>\n",
       "      <td>01/03/2019</td>\n",
       "      <td>Banglore</td>\n",
       "      <td>New Delhi</td>\n",
       "      <td>BLR → NAG → DEL</td>\n",
       "      <td>16:50</td>\n",
       "      <td>21:35</td>\n",
       "      <td>4h 45m</td>\n",
       "      <td>1 stop</td>\n",
       "      <td>No info</td>\n",
       "      <td>13302</td>\n",
       "    </tr>\n",
       "  </tbody>\n",
       "</table>\n",
       "</div>"
      ],
      "text/plain": [
       "       Airline Date_of_Journey    Source Destination                  Route  \\\n",
       "0       IndiGo      24/03/2019  Banglore   New Delhi              BLR → DEL   \n",
       "1    Air India       1/05/2019   Kolkata    Banglore  CCU → IXR → BBI → BLR   \n",
       "2  Jet Airways       9/06/2019     Delhi      Cochin  DEL → LKO → BOM → COK   \n",
       "3       IndiGo      12/05/2019   Kolkata    Banglore        CCU → NAG → BLR   \n",
       "4       IndiGo      01/03/2019  Banglore   New Delhi        BLR → NAG → DEL   \n",
       "\n",
       "  Dep_Time  Arrival_Time Duration Total_Stops Additional_Info  Price  \n",
       "0    22:20  01:10 22 Mar   2h 50m    non-stop         No info   3897  \n",
       "1    05:50         13:15   7h 25m     2 stops         No info   7662  \n",
       "2    09:25  04:25 10 Jun      19h     2 stops         No info  13882  \n",
       "3    18:05         23:30   5h 25m      1 stop         No info   6218  \n",
       "4    16:50         21:35   4h 45m      1 stop         No info  13302  "
      ]
     },
     "execution_count": 2,
     "metadata": {},
     "output_type": "execute_result"
    }
   ],
   "source": [
    "project_dir = r'C:\\Users\\Akanksha\\Flight_Price_Prediction'\n",
    "data_dir = 'data'\n",
    "\n",
    "def reading_csv(filename):\n",
    "    csv_path = os.path.join(project_dir, data_dir, filename)\n",
    "    return pd.read_csv(csv_path)\n",
    "\n",
    "df = reading_csv('flight_price.csv')\n",
    "print(df.shape)\n",
    "df.head()"
   ]
  },
  {
   "cell_type": "markdown",
   "id": "05f7a4be",
   "metadata": {},
   "source": [
    "### 2. Exploring the data"
   ]
  },
  {
   "cell_type": "code",
   "execution_count": 3,
   "id": "8c29a01a-9f73-4374-ae9f-f22461d325e1",
   "metadata": {},
   "outputs": [
    {
     "data": {
      "text/html": [
       "<pre style=\"white-space:pre;overflow-x:auto;line-height:normal;font-family:Menlo,'DejaVu Sans Mono',consolas,'Courier New',monospace\">╭──────────────────────────────────────────────── skimpy summary ─────────────────────────────────────────────────╮\n",
       "│ <span style=\"font-style: italic\">         Data Summary         </span> <span style=\"font-style: italic\">      Data Types       </span>                                                          │\n",
       "│ ┏━━━━━━━━━━━━━━━━━━━┳━━━━━━━━┓ ┏━━━━━━━━━━━━━┳━━━━━━━┓                                                          │\n",
       "│ ┃<span style=\"color: #008080; text-decoration-color: #008080; font-weight: bold\"> dataframe         </span>┃<span style=\"color: #008080; text-decoration-color: #008080; font-weight: bold\"> Values </span>┃ ┃<span style=\"color: #008080; text-decoration-color: #008080; font-weight: bold\"> Column Type </span>┃<span style=\"color: #008080; text-decoration-color: #008080; font-weight: bold\"> Count </span>┃                                                          │\n",
       "│ ┡━━━━━━━━━━━━━━━━━━━╇━━━━━━━━┩ ┡━━━━━━━━━━━━━╇━━━━━━━┩                                                          │\n",
       "│ │ Number of rows    │ 10683  │ │ string      │ 10    │                                                          │\n",
       "│ │ Number of columns │ 11     │ │ int32       │ 1     │                                                          │\n",
       "│ └───────────────────┴────────┘ └─────────────┴───────┘                                                          │\n",
       "│ <span style=\"font-style: italic\">                                                    number                                                    </span>  │\n",
       "│ ┏━━━━━━━━━━━━━━━━━┳━━━━━━┳━━━━━━━━┳━━━━━━━━┳━━━━━━━━┳━━━━━━━━┳━━━━━━━━┳━━━━━━━━┳━━━━━━━━━┳━━━━━━━━━┳━━━━━━━━━┓  │\n",
       "│ ┃<span style=\"font-weight: bold\"> column_name     </span>┃<span style=\"font-weight: bold\"> NA   </span>┃<span style=\"font-weight: bold\"> NA %   </span>┃<span style=\"font-weight: bold\"> mean   </span>┃<span style=\"font-weight: bold\"> sd     </span>┃<span style=\"font-weight: bold\"> p0     </span>┃<span style=\"font-weight: bold\"> p25    </span>┃<span style=\"font-weight: bold\"> p50    </span>┃<span style=\"font-weight: bold\"> p75     </span>┃<span style=\"font-weight: bold\"> p100    </span>┃<span style=\"font-weight: bold\"> hist    </span>┃  │\n",
       "│ ┡━━━━━━━━━━━━━━━━━╇━━━━━━╇━━━━━━━━╇━━━━━━━━╇━━━━━━━━╇━━━━━━━━╇━━━━━━━━╇━━━━━━━━╇━━━━━━━━━╇━━━━━━━━━╇━━━━━━━━━┩  │\n",
       "│ │ <span style=\"color: #af87ff; text-decoration-color: #af87ff\">Price          </span> │ <span style=\"color: #008080; text-decoration-color: #008080\">   0</span> │ <span style=\"color: #008080; text-decoration-color: #008080\">     0</span> │ <span style=\"color: #008080; text-decoration-color: #008080\">  9100</span> │ <span style=\"color: #008080; text-decoration-color: #008080\">  4600</span> │ <span style=\"color: #008080; text-decoration-color: #008080\">  1800</span> │ <span style=\"color: #008080; text-decoration-color: #008080\">  5300</span> │ <span style=\"color: #008080; text-decoration-color: #008080\">  8400</span> │ <span style=\"color: #008080; text-decoration-color: #008080\">  12000</span> │ <span style=\"color: #008080; text-decoration-color: #008080\">  80000</span> │ <span style=\"color: #008000; text-decoration-color: #008000\">  ▇▁   </span> │  │\n",
       "│ └─────────────────┴──────┴────────┴────────┴────────┴────────┴────────┴────────┴─────────┴─────────┴─────────┘  │\n",
       "│ <span style=\"font-style: italic\">                                                    string                                                    </span>  │\n",
       "│ ┏━━━━━━━━━━━━━━━━━━━━━━━━━━━━━━━━━┳━━━━━━━━┳━━━━━━━━━━━━┳━━━━━━━━━━━━━━━━━━━━━━━━━━━━┳━━━━━━━━━━━━━━━━━━━━━━━┓  │\n",
       "│ ┃<span style=\"font-weight: bold\"> column_name                     </span>┃<span style=\"font-weight: bold\"> NA     </span>┃<span style=\"font-weight: bold\"> NA %       </span>┃<span style=\"font-weight: bold\"> words per row              </span>┃<span style=\"font-weight: bold\"> total words           </span>┃  │\n",
       "│ ┡━━━━━━━━━━━━━━━━━━━━━━━━━━━━━━━━━╇━━━━━━━━╇━━━━━━━━━━━━╇━━━━━━━━━━━━━━━━━━━━━━━━━━━━╇━━━━━━━━━━━━━━━━━━━━━━━┩  │\n",
       "│ │ <span style=\"color: #af87ff; text-decoration-color: #af87ff\">Airline                        </span> │ <span style=\"color: #008080; text-decoration-color: #008080\">     0</span> │ <span style=\"color: #008080; text-decoration-color: #008080\">         0</span> │ <span style=\"color: #008080; text-decoration-color: #008080\">                       1.7</span> │ <span style=\"color: #008080; text-decoration-color: #008080\">                17856</span> │  │\n",
       "│ │ <span style=\"color: #af87ff; text-decoration-color: #af87ff\">Date_of_Journey                </span> │ <span style=\"color: #008080; text-decoration-color: #008080\">     0</span> │ <span style=\"color: #008080; text-decoration-color: #008080\">         0</span> │ <span style=\"color: #008080; text-decoration-color: #008080\">                         1</span> │ <span style=\"color: #008080; text-decoration-color: #008080\">                10683</span> │  │\n",
       "│ │ <span style=\"color: #af87ff; text-decoration-color: #af87ff\">Source                         </span> │ <span style=\"color: #008080; text-decoration-color: #008080\">     0</span> │ <span style=\"color: #008080; text-decoration-color: #008080\">         0</span> │ <span style=\"color: #008080; text-decoration-color: #008080\">                         1</span> │ <span style=\"color: #008080; text-decoration-color: #008080\">                10683</span> │  │\n",
       "│ │ <span style=\"color: #af87ff; text-decoration-color: #af87ff\">Destination                    </span> │ <span style=\"color: #008080; text-decoration-color: #008080\">     0</span> │ <span style=\"color: #008080; text-decoration-color: #008080\">         0</span> │ <span style=\"color: #008080; text-decoration-color: #008080\">                       1.1</span> │ <span style=\"color: #008080; text-decoration-color: #008080\">                11615</span> │  │\n",
       "│ │ <span style=\"color: #af87ff; text-decoration-color: #af87ff\">Route                          </span> │ <span style=\"color: #008080; text-decoration-color: #008080\">     1</span> │ <span style=\"color: #008080; text-decoration-color: #008080\">      0.01</span> │ <span style=\"color: #008080; text-decoration-color: #008080\">                       4.6</span> │ <span style=\"color: #008080; text-decoration-color: #008080\">                49654</span> │  │\n",
       "│ │ <span style=\"color: #af87ff; text-decoration-color: #af87ff\">Dep_Time                       </span> │ <span style=\"color: #008080; text-decoration-color: #008080\">     0</span> │ <span style=\"color: #008080; text-decoration-color: #008080\">         0</span> │ <span style=\"color: #008080; text-decoration-color: #008080\">                         1</span> │ <span style=\"color: #008080; text-decoration-color: #008080\">                10683</span> │  │\n",
       "│ │ <span style=\"color: #af87ff; text-decoration-color: #af87ff\">Arrival_Time                   </span> │ <span style=\"color: #008080; text-decoration-color: #008080\">     0</span> │ <span style=\"color: #008080; text-decoration-color: #008080\">         0</span> │ <span style=\"color: #008080; text-decoration-color: #008080\">                       1.8</span> │ <span style=\"color: #008080; text-decoration-color: #008080\">                19353</span> │  │\n",
       "│ │ <span style=\"color: #af87ff; text-decoration-color: #af87ff\">Duration                       </span> │ <span style=\"color: #008080; text-decoration-color: #008080\">     0</span> │ <span style=\"color: #008080; text-decoration-color: #008080\">         0</span> │ <span style=\"color: #008080; text-decoration-color: #008080\">                       1.9</span> │ <span style=\"color: #008080; text-decoration-color: #008080\">                20334</span> │  │\n",
       "│ │ <span style=\"color: #af87ff; text-decoration-color: #af87ff\">Total_Stops                    </span> │ <span style=\"color: #008080; text-decoration-color: #008080\">     1</span> │ <span style=\"color: #008080; text-decoration-color: #008080\">      0.01</span> │ <span style=\"color: #008080; text-decoration-color: #008080\">                       1.7</span> │ <span style=\"color: #008080; text-decoration-color: #008080\">                17873</span> │  │\n",
       "│ │ <span style=\"color: #af87ff; text-decoration-color: #af87ff\">Additional_Info                </span> │ <span style=\"color: #008080; text-decoration-color: #008080\">     0</span> │ <span style=\"color: #008080; text-decoration-color: #008080\">         0</span> │ <span style=\"color: #008080; text-decoration-color: #008080\">                       2.4</span> │ <span style=\"color: #008080; text-decoration-color: #008080\">                25991</span> │  │\n",
       "│ └─────────────────────────────────┴────────┴────────────┴────────────────────────────┴───────────────────────┘  │\n",
       "╰────────────────────────────────────────────────────── End ──────────────────────────────────────────────────────╯\n",
       "</pre>\n"
      ],
      "text/plain": [
       "╭──────────────────────────────────────────────── skimpy summary ─────────────────────────────────────────────────╮\n",
       "│ \u001b[3m         Data Summary         \u001b[0m \u001b[3m      Data Types       \u001b[0m                                                          │\n",
       "│ ┏━━━━━━━━━━━━━━━━━━━┳━━━━━━━━┓ ┏━━━━━━━━━━━━━┳━━━━━━━┓                                                          │\n",
       "│ ┃\u001b[1;36m \u001b[0m\u001b[1;36mdataframe        \u001b[0m\u001b[1;36m \u001b[0m┃\u001b[1;36m \u001b[0m\u001b[1;36mValues\u001b[0m\u001b[1;36m \u001b[0m┃ ┃\u001b[1;36m \u001b[0m\u001b[1;36mColumn Type\u001b[0m\u001b[1;36m \u001b[0m┃\u001b[1;36m \u001b[0m\u001b[1;36mCount\u001b[0m\u001b[1;36m \u001b[0m┃                                                          │\n",
       "│ ┡━━━━━━━━━━━━━━━━━━━╇━━━━━━━━┩ ┡━━━━━━━━━━━━━╇━━━━━━━┩                                                          │\n",
       "│ │ Number of rows    │ 10683  │ │ string      │ 10    │                                                          │\n",
       "│ │ Number of columns │ 11     │ │ int32       │ 1     │                                                          │\n",
       "│ └───────────────────┴────────┘ └─────────────┴───────┘                                                          │\n",
       "│ \u001b[3m                                                    number                                                    \u001b[0m  │\n",
       "│ ┏━━━━━━━━━━━━━━━━━┳━━━━━━┳━━━━━━━━┳━━━━━━━━┳━━━━━━━━┳━━━━━━━━┳━━━━━━━━┳━━━━━━━━┳━━━━━━━━━┳━━━━━━━━━┳━━━━━━━━━┓  │\n",
       "│ ┃\u001b[1m \u001b[0m\u001b[1mcolumn_name    \u001b[0m\u001b[1m \u001b[0m┃\u001b[1m \u001b[0m\u001b[1mNA  \u001b[0m\u001b[1m \u001b[0m┃\u001b[1m \u001b[0m\u001b[1mNA %  \u001b[0m\u001b[1m \u001b[0m┃\u001b[1m \u001b[0m\u001b[1mmean  \u001b[0m\u001b[1m \u001b[0m┃\u001b[1m \u001b[0m\u001b[1msd    \u001b[0m\u001b[1m \u001b[0m┃\u001b[1m \u001b[0m\u001b[1mp0    \u001b[0m\u001b[1m \u001b[0m┃\u001b[1m \u001b[0m\u001b[1mp25   \u001b[0m\u001b[1m \u001b[0m┃\u001b[1m \u001b[0m\u001b[1mp50   \u001b[0m\u001b[1m \u001b[0m┃\u001b[1m \u001b[0m\u001b[1mp75    \u001b[0m\u001b[1m \u001b[0m┃\u001b[1m \u001b[0m\u001b[1mp100   \u001b[0m\u001b[1m \u001b[0m┃\u001b[1m \u001b[0m\u001b[1mhist   \u001b[0m\u001b[1m \u001b[0m┃  │\n",
       "│ ┡━━━━━━━━━━━━━━━━━╇━━━━━━╇━━━━━━━━╇━━━━━━━━╇━━━━━━━━╇━━━━━━━━╇━━━━━━━━╇━━━━━━━━╇━━━━━━━━━╇━━━━━━━━━╇━━━━━━━━━┩  │\n",
       "│ │ \u001b[38;5;141mPrice          \u001b[0m │ \u001b[36m   0\u001b[0m │ \u001b[36m     0\u001b[0m │ \u001b[36m  9100\u001b[0m │ \u001b[36m  4600\u001b[0m │ \u001b[36m  1800\u001b[0m │ \u001b[36m  5300\u001b[0m │ \u001b[36m  8400\u001b[0m │ \u001b[36m  12000\u001b[0m │ \u001b[36m  80000\u001b[0m │ \u001b[32m  ▇▁   \u001b[0m │  │\n",
       "│ └─────────────────┴──────┴────────┴────────┴────────┴────────┴────────┴────────┴─────────┴─────────┴─────────┘  │\n",
       "│ \u001b[3m                                                    string                                                    \u001b[0m  │\n",
       "│ ┏━━━━━━━━━━━━━━━━━━━━━━━━━━━━━━━━━┳━━━━━━━━┳━━━━━━━━━━━━┳━━━━━━━━━━━━━━━━━━━━━━━━━━━━┳━━━━━━━━━━━━━━━━━━━━━━━┓  │\n",
       "│ ┃\u001b[1m \u001b[0m\u001b[1mcolumn_name                    \u001b[0m\u001b[1m \u001b[0m┃\u001b[1m \u001b[0m\u001b[1mNA    \u001b[0m\u001b[1m \u001b[0m┃\u001b[1m \u001b[0m\u001b[1mNA %      \u001b[0m\u001b[1m \u001b[0m┃\u001b[1m \u001b[0m\u001b[1mwords per row             \u001b[0m\u001b[1m \u001b[0m┃\u001b[1m \u001b[0m\u001b[1mtotal words          \u001b[0m\u001b[1m \u001b[0m┃  │\n",
       "│ ┡━━━━━━━━━━━━━━━━━━━━━━━━━━━━━━━━━╇━━━━━━━━╇━━━━━━━━━━━━╇━━━━━━━━━━━━━━━━━━━━━━━━━━━━╇━━━━━━━━━━━━━━━━━━━━━━━┩  │\n",
       "│ │ \u001b[38;5;141mAirline                        \u001b[0m │ \u001b[36m     0\u001b[0m │ \u001b[36m         0\u001b[0m │ \u001b[36m                       1.7\u001b[0m │ \u001b[36m                17856\u001b[0m │  │\n",
       "│ │ \u001b[38;5;141mDate_of_Journey                \u001b[0m │ \u001b[36m     0\u001b[0m │ \u001b[36m         0\u001b[0m │ \u001b[36m                         1\u001b[0m │ \u001b[36m                10683\u001b[0m │  │\n",
       "│ │ \u001b[38;5;141mSource                         \u001b[0m │ \u001b[36m     0\u001b[0m │ \u001b[36m         0\u001b[0m │ \u001b[36m                         1\u001b[0m │ \u001b[36m                10683\u001b[0m │  │\n",
       "│ │ \u001b[38;5;141mDestination                    \u001b[0m │ \u001b[36m     0\u001b[0m │ \u001b[36m         0\u001b[0m │ \u001b[36m                       1.1\u001b[0m │ \u001b[36m                11615\u001b[0m │  │\n",
       "│ │ \u001b[38;5;141mRoute                          \u001b[0m │ \u001b[36m     1\u001b[0m │ \u001b[36m      0.01\u001b[0m │ \u001b[36m                       4.6\u001b[0m │ \u001b[36m                49654\u001b[0m │  │\n",
       "│ │ \u001b[38;5;141mDep_Time                       \u001b[0m │ \u001b[36m     0\u001b[0m │ \u001b[36m         0\u001b[0m │ \u001b[36m                         1\u001b[0m │ \u001b[36m                10683\u001b[0m │  │\n",
       "│ │ \u001b[38;5;141mArrival_Time                   \u001b[0m │ \u001b[36m     0\u001b[0m │ \u001b[36m         0\u001b[0m │ \u001b[36m                       1.8\u001b[0m │ \u001b[36m                19353\u001b[0m │  │\n",
       "│ │ \u001b[38;5;141mDuration                       \u001b[0m │ \u001b[36m     0\u001b[0m │ \u001b[36m         0\u001b[0m │ \u001b[36m                       1.9\u001b[0m │ \u001b[36m                20334\u001b[0m │  │\n",
       "│ │ \u001b[38;5;141mTotal_Stops                    \u001b[0m │ \u001b[36m     1\u001b[0m │ \u001b[36m      0.01\u001b[0m │ \u001b[36m                       1.7\u001b[0m │ \u001b[36m                17873\u001b[0m │  │\n",
       "│ │ \u001b[38;5;141mAdditional_Info                \u001b[0m │ \u001b[36m     0\u001b[0m │ \u001b[36m         0\u001b[0m │ \u001b[36m                       2.4\u001b[0m │ \u001b[36m                25991\u001b[0m │  │\n",
       "│ └─────────────────────────────────┴────────┴────────────┴────────────────────────────┴───────────────────────┘  │\n",
       "╰────────────────────────────────────────────────────── End ──────────────────────────────────────────────────────╯\n"
      ]
     },
     "metadata": {},
     "output_type": "display_data"
    }
   ],
   "source": [
    "skim(df)"
   ]
  },
  {
   "cell_type": "code",
   "execution_count": 4,
   "id": "7f94118f-fe37-4de7-a697-41616db870c2",
   "metadata": {},
   "outputs": [
    {
     "data": {
      "text/plain": [
       "Airline            object\n",
       "Date_of_Journey    object\n",
       "Source             object\n",
       "Destination        object\n",
       "Route              object\n",
       "Dep_Time           object\n",
       "Arrival_Time       object\n",
       "Duration           object\n",
       "Total_Stops        object\n",
       "Additional_Info    object\n",
       "Price               int64\n",
       "dtype: object"
      ]
     },
     "execution_count": 4,
     "metadata": {},
     "output_type": "execute_result"
    }
   ],
   "source": [
    "df.dtypes"
   ]
  },
  {
   "cell_type": "code",
   "execution_count": 5,
   "id": "fa454081-6fd5-480c-8967-632a4118f0ef",
   "metadata": {},
   "outputs": [
    {
     "data": {
      "text/plain": [
       "(True, 220)"
      ]
     },
     "execution_count": 5,
     "metadata": {},
     "output_type": "execute_result"
    }
   ],
   "source": [
    "df.duplicated().any(), df.duplicated().sum()"
   ]
  },
  {
   "cell_type": "markdown",
   "id": "e669b77c",
   "metadata": {},
   "source": [
    "### 3. Important Data Observations"
   ]
  },
  {
   "cell_type": "markdown",
   "id": "3414a91f",
   "metadata": {},
   "source": [
    "- Date_of_Journey, Dep_Time and Arrival_Time columns should have datetime format.\n",
    "- Dep_Time column has to be in time format.\n",
    "- Arrival_Time column has some invalid entries. It needs to be cleaned.\n",
    "- Duration could simply be represented in minutes instead of 'X hr Y min' format.\n",
    "- Total_Stops and layovers columns should be integers.\n",
    "- Route is redundant, as we have Total_Stops column."
   ]
  },
  {
   "cell_type": "markdown",
   "id": "a91f6f7f",
   "metadata": {},
   "source": [
    "### 4. Detailed Analysis"
   ]
  },
  {
   "cell_type": "markdown",
   "id": "b060819e",
   "metadata": {},
   "source": [
    "#### Airline"
   ]
  },
  {
   "cell_type": "code",
   "execution_count": 6,
   "id": "0347e28c",
   "metadata": {},
   "outputs": [
    {
     "data": {
      "text/plain": [
       "(array(['IndiGo', 'Air India', 'Jet Airways', 'SpiceJet',\n",
       "        'Multiple carriers', 'GoAir', 'Vistara', 'Air Asia',\n",
       "        'Vistara Premium economy', 'Jet Airways Business',\n",
       "        'Multiple carriers Premium economy', 'Trujet'], dtype=object),\n",
       " Airline\n",
       " Jet Airways                          3849\n",
       " IndiGo                               2053\n",
       " Air India                            1752\n",
       " Multiple carriers                    1196\n",
       " SpiceJet                              818\n",
       " Vistara                               479\n",
       " Air Asia                              319\n",
       " GoAir                                 194\n",
       " Multiple carriers Premium economy      13\n",
       " Jet Airways Business                    6\n",
       " Vistara Premium economy                 3\n",
       " Trujet                                  1\n",
       " Name: count, dtype: int64)"
      ]
     },
     "execution_count": 6,
     "metadata": {},
     "output_type": "execute_result"
    }
   ],
   "source": [
    "df.Airline.unique(), df.Airline.value_counts()"
   ]
  },
  {
   "cell_type": "markdown",
   "id": "5c88bba1",
   "metadata": {},
   "source": [
    "- Some airlines have multiple names, let's correct them."
   ]
  },
  {
   "cell_type": "code",
   "execution_count": 7,
   "id": "65f117ef",
   "metadata": {},
   "outputs": [
    {
     "data": {
      "text/plain": [
       "array(['IndiGo', 'Air India', 'Jet Airways', 'SpiceJet',\n",
       "       'Multiple Carriers', 'GoAir', 'Vistara', 'Air Asia', 'Trujet'],\n",
       "      dtype=object)"
      ]
     },
     "execution_count": 7,
     "metadata": {},
     "output_type": "execute_result"
    }
   ],
   "source": [
    "(\n",
    "    df\n",
    "    .Airline\n",
    "    .str.strip()\n",
    "    .replace(\n",
    "        {'Multiple carriers Premium economy' : 'Multiple Carriers',\n",
    "         'Multiple carriers' : 'Multiple Carriers',\n",
    "         'Jet Airways Business' : 'Jet Airways',\n",
    "         'Vistara Premium economy' : 'Vistara'})\n",
    "    .unique()\n",
    ")"
   ]
  },
  {
   "cell_type": "markdown",
   "id": "395243de",
   "metadata": {},
   "source": [
    "#### Date_of_Journey"
   ]
  },
  {
   "cell_type": "code",
   "execution_count": 8,
   "id": "6953e272",
   "metadata": {},
   "outputs": [
    {
     "data": {
      "text/plain": [
       "0       2019-03-24\n",
       "1       2019-05-01\n",
       "2       2019-06-09\n",
       "3       2019-05-12\n",
       "4       2019-03-01\n",
       "           ...    \n",
       "10678   2019-04-09\n",
       "10679   2019-04-27\n",
       "10680   2019-04-27\n",
       "10681   2019-03-01\n",
       "10682   2019-05-09\n",
       "Name: Date_of_Journey, Length: 10683, dtype: datetime64[ns]"
      ]
     },
     "execution_count": 8,
     "metadata": {},
     "output_type": "execute_result"
    }
   ],
   "source": [
    "pd.to_datetime(df.Date_of_Journey, format='%d/%m/%Y')"
   ]
  },
  {
   "cell_type": "markdown",
   "id": "64881b4e",
   "metadata": {},
   "source": [
    "#### Source and Destination"
   ]
  },
  {
   "cell_type": "code",
   "execution_count": 9,
   "id": "3702f9f3",
   "metadata": {},
   "outputs": [
    {
     "data": {
      "text/plain": [
       "(array(['Banglore', 'Kolkata', 'Delhi', 'Chennai', 'Mumbai'], dtype=object),\n",
       " array(['New Delhi', 'Banglore', 'Cochin', 'Kolkata', 'Delhi', 'Hyderabad'],\n",
       "       dtype=object))"
      ]
     },
     "execution_count": 9,
     "metadata": {},
     "output_type": "execute_result"
    }
   ],
   "source": [
    "df.Source.unique(), df.Destination.unique()"
   ]
  },
  {
   "cell_type": "markdown",
   "id": "8df5784a",
   "metadata": {},
   "source": [
    "#### Dep_Time"
   ]
  },
  {
   "cell_type": "code",
   "execution_count": 10,
   "id": "438d5141",
   "metadata": {},
   "outputs": [
    {
     "data": {
      "text/plain": [
       "Series([], Name: Dep_Time, dtype: object)"
      ]
     },
     "execution_count": 10,
     "metadata": {},
     "output_type": "execute_result"
    }
   ],
   "source": [
    "(\n",
    "    df\n",
    "    .Dep_Time\n",
    "    .loc[lambda char: char.str.contains(\"[^0-9:]\")]\n",
    ")"
   ]
  },
  {
   "cell_type": "code",
   "execution_count": 11,
   "id": "f6e10351",
   "metadata": {},
   "outputs": [
    {
     "data": {
      "text/plain": [
       "(0       1900-01-01 22:20:00\n",
       " 1       1900-01-01 05:50:00\n",
       " 2       1900-01-01 09:25:00\n",
       " 3       1900-01-01 18:05:00\n",
       " 4       1900-01-01 16:50:00\n",
       "                 ...        \n",
       " 10678   1900-01-01 19:55:00\n",
       " 10679   1900-01-01 20:45:00\n",
       " 10680   1900-01-01 08:20:00\n",
       " 10681   1900-01-01 11:30:00\n",
       " 10682   1900-01-01 10:55:00\n",
       " Name: Dep_Time, Length: 10683, dtype: datetime64[ns],\n",
       " 0        22:20:00\n",
       " 1        05:50:00\n",
       " 2        09:25:00\n",
       " 3        18:05:00\n",
       " 4        16:50:00\n",
       "            ...   \n",
       " 10678    19:55:00\n",
       " 10679    20:45:00\n",
       " 10680    08:20:00\n",
       " 10681    11:30:00\n",
       " 10682    10:55:00\n",
       " Name: Dep_Time, Length: 10683, dtype: object)"
      ]
     },
     "execution_count": 11,
     "metadata": {},
     "output_type": "execute_result"
    }
   ],
   "source": [
    "pd.to_datetime(df.Dep_Time, format='%H:%M') , pd.to_datetime(df.Dep_Time, format=\"%H:%M\").dt.time"
   ]
  },
  {
   "cell_type": "markdown",
   "id": "1b5babcd",
   "metadata": {},
   "source": [
    "#### Arrival_Time"
   ]
  },
  {
   "cell_type": "code",
   "execution_count": 12,
   "id": "1dc0e9e9",
   "metadata": {},
   "outputs": [
    {
     "data": {
      "text/plain": [
       "array(['22 Mar', '10 Jun', '13 Mar', '02 Mar', '10 May', '04 Mar',\n",
       "       '13 Jun', '28 May', '19 Mar', '07 May', '02 Jun', '16 Jun',\n",
       "       '19 May', '16 May', '28 Jun', '02 May', '28 Mar', '19 Jun',\n",
       "       '04 Apr', '25 Mar', '07 Mar', '25 Jun', '07 Jun', '25 May',\n",
       "       '13 May', '16 Mar', '22 May', '10 Apr', '04 Jun', '20 May',\n",
       "       '28 Apr', '25 Apr', '10 Mar', '19 Apr', '13 Apr', '02 Apr',\n",
       "       '23 Mar', '22 Apr', '11 May', '07 Apr', '03 May', '08 Mar',\n",
       "       '03 Mar', '05 Mar', '22 Jun', '04 May', '26 May', '16 Apr',\n",
       "       '26 Jun', '29 May', '29 Jun', '29 Mar', '23 May', '17 Jun'],\n",
       "      dtype=object)"
      ]
     },
     "execution_count": 12,
     "metadata": {},
     "output_type": "execute_result"
    }
   ],
   "source": [
    "(\n",
    "    df\n",
    "    .Arrival_Time\n",
    "    .loc[lambda char: char.str.contains(\"[^0-9:]\")]\n",
    "    .str.split(' ', n=1)\n",
    "    .str.get(1)\n",
    "    .unique()\n",
    ")"
   ]
  },
  {
   "cell_type": "code",
   "execution_count": 13,
   "id": "c5c9ea22",
   "metadata": {},
   "outputs": [
    {
     "name": "stderr",
     "output_type": "stream",
     "text": [
      "C:\\Users\\Akanksha\\AppData\\Local\\Temp\\ipykernel_11828\\4055714566.py:1: UserWarning: Could not infer format, so each element will be parsed individually, falling back to `dateutil`. To ensure parsing is consistent and as-expected, please specify a format.\n",
      "  pd.to_datetime(df.Arrival_Time).dt.time\n"
     ]
    },
    {
     "data": {
      "text/plain": [
       "0        01:10:00\n",
       "1        13:15:00\n",
       "2        04:25:00\n",
       "3        23:30:00\n",
       "4        21:35:00\n",
       "           ...   \n",
       "10678    22:25:00\n",
       "10679    23:20:00\n",
       "10680    11:20:00\n",
       "10681    14:10:00\n",
       "10682    19:15:00\n",
       "Name: Arrival_Time, Length: 10683, dtype: object"
      ]
     },
     "execution_count": 13,
     "metadata": {},
     "output_type": "execute_result"
    }
   ],
   "source": [
    "pd.to_datetime(df.Arrival_Time).dt.time"
   ]
  },
  {
   "cell_type": "markdown",
   "id": "91e6ee7c",
   "metadata": {},
   "source": [
    "#### Duration"
   ]
  },
  {
   "cell_type": "code",
   "execution_count": 14,
   "id": "a4eb632b",
   "metadata": {},
   "outputs": [
    {
     "data": {
      "text/plain": [
       "6474    5m\n",
       "Name: Duration, dtype: object"
      ]
     },
     "execution_count": 14,
     "metadata": {},
     "output_type": "execute_result"
    }
   ],
   "source": [
    "(\n",
    "    df\n",
    "    .Duration\n",
    "    .loc[lambda char: ~char.str.contains(\"h\")]\n",
    ")"
   ]
  },
  {
   "cell_type": "code",
   "execution_count": 15,
   "id": "9de86b30",
   "metadata": {},
   "outputs": [
    {
     "data": {
      "text/html": [
       "<div>\n",
       "<style scoped>\n",
       "    .dataframe tbody tr th:only-of-type {\n",
       "        vertical-align: middle;\n",
       "    }\n",
       "\n",
       "    .dataframe tbody tr th {\n",
       "        vertical-align: top;\n",
       "    }\n",
       "\n",
       "    .dataframe thead th {\n",
       "        text-align: right;\n",
       "    }\n",
       "</style>\n",
       "<table border=\"1\" class=\"dataframe\">\n",
       "  <thead>\n",
       "    <tr style=\"text-align: right;\">\n",
       "      <th></th>\n",
       "      <th>Airline</th>\n",
       "      <th>Date_of_Journey</th>\n",
       "      <th>Source</th>\n",
       "      <th>Destination</th>\n",
       "      <th>Route</th>\n",
       "      <th>Dep_Time</th>\n",
       "      <th>Arrival_Time</th>\n",
       "      <th>Duration</th>\n",
       "      <th>Total_Stops</th>\n",
       "      <th>Additional_Info</th>\n",
       "      <th>Price</th>\n",
       "    </tr>\n",
       "  </thead>\n",
       "  <tbody>\n",
       "    <tr>\n",
       "      <th>6474</th>\n",
       "      <td>Air India</td>\n",
       "      <td>6/03/2019</td>\n",
       "      <td>Mumbai</td>\n",
       "      <td>Hyderabad</td>\n",
       "      <td>BOM → GOI → PNQ → HYD</td>\n",
       "      <td>16:50</td>\n",
       "      <td>16:55</td>\n",
       "      <td>5m</td>\n",
       "      <td>2 stops</td>\n",
       "      <td>No info</td>\n",
       "      <td>17327</td>\n",
       "    </tr>\n",
       "  </tbody>\n",
       "</table>\n",
       "</div>"
      ],
      "text/plain": [
       "        Airline Date_of_Journey  Source Destination                  Route  \\\n",
       "6474  Air India       6/03/2019  Mumbai   Hyderabad  BOM → GOI → PNQ → HYD   \n",
       "\n",
       "     Dep_Time Arrival_Time Duration Total_Stops Additional_Info  Price  \n",
       "6474    16:50        16:55       5m     2 stops         No info  17327  "
      ]
     },
     "execution_count": 15,
     "metadata": {},
     "output_type": "execute_result"
    }
   ],
   "source": [
    "df.iloc[[6474]]"
   ]
  },
  {
   "cell_type": "markdown",
   "id": "404f9b26",
   "metadata": {},
   "source": [
    "- It definitely does not correspond to a real scenario and is an error. Hence, we must remove it."
   ]
  },
  {
   "cell_type": "code",
   "execution_count": 16,
   "id": "d539a279",
   "metadata": {},
   "outputs": [
    {
     "data": {
      "text/plain": [
       "(0       0 days 02:50:00\n",
       " 1       0 days 07:25:00\n",
       " 2       0 days 19:00:00\n",
       " 3       0 days 05:25:00\n",
       " 4       0 days 04:45:00\n",
       "               ...      \n",
       " 10678   0 days 02:30:00\n",
       " 10679   0 days 02:35:00\n",
       " 10680   0 days 03:00:00\n",
       " 10681   0 days 02:40:00\n",
       " 10682   0 days 08:20:00\n",
       " Name: Duration, Length: 10683, dtype: timedelta64[ns],\n",
       " 0         170.0\n",
       " 1         445.0\n",
       " 2        1140.0\n",
       " 3         325.0\n",
       " 4         285.0\n",
       "           ...  \n",
       " 10678     150.0\n",
       " 10679     155.0\n",
       " 10680     180.0\n",
       " 10681     160.0\n",
       " 10682     500.0\n",
       " Name: Duration, Length: 10683, dtype: float64)"
      ]
     },
     "execution_count": 16,
     "metadata": {},
     "output_type": "execute_result"
    }
   ],
   "source": [
    "pd.to_timedelta(df.Duration), pd.to_timedelta(df.Duration).dt.total_seconds() / 60"
   ]
  },
  {
   "cell_type": "markdown",
   "id": "4316fb7b",
   "metadata": {},
   "source": [
    "#### Total_Stops"
   ]
  },
  {
   "cell_type": "code",
   "execution_count": 17,
   "id": "8321d19e",
   "metadata": {},
   "outputs": [
    {
     "data": {
      "text/plain": [
       "(array(['non-stop', '2 stops', '1 stop', '3 stops', nan, '4 stops'],\n",
       "       dtype=object),\n",
       " Total_Stops\n",
       " 1 stop      5625\n",
       " non-stop    3491\n",
       " 2 stops     1520\n",
       " 3 stops       45\n",
       " 4 stops        1\n",
       " Name: count, dtype: int64)"
      ]
     },
     "execution_count": 17,
     "metadata": {},
     "output_type": "execute_result"
    }
   ],
   "source": [
    "df.Total_Stops.unique(), df.Total_Stops.value_counts()"
   ]
  },
  {
   "cell_type": "code",
   "execution_count": 18,
   "id": "41e0b788",
   "metadata": {},
   "outputs": [
    {
     "data": {
      "text/plain": [
       "0        0.0\n",
       "1        2.0\n",
       "2        2.0\n",
       "3        1.0\n",
       "4        1.0\n",
       "        ... \n",
       "10678    0.0\n",
       "10679    0.0\n",
       "10680    0.0\n",
       "10681    0.0\n",
       "10682    2.0\n",
       "Name: Total_Stops, Length: 10683, dtype: float64"
      ]
     },
     "execution_count": 18,
     "metadata": {},
     "output_type": "execute_result"
    }
   ],
   "source": [
    "(\n",
    "    df\n",
    "    .Total_Stops\n",
    "    .str.replace('non-stop', '0')\n",
    "    .str.replace(\" stops?\", \"\", regex=True)\n",
    "    .pipe(lambda ser: pd.to_numeric(ser))\n",
    "    \n",
    ")"
   ]
  },
  {
   "cell_type": "code",
   "execution_count": 19,
   "id": "6ad27b35",
   "metadata": {},
   "outputs": [
    {
     "data": {
      "text/html": [
       "<div>\n",
       "<style scoped>\n",
       "    .dataframe tbody tr th:only-of-type {\n",
       "        vertical-align: middle;\n",
       "    }\n",
       "\n",
       "    .dataframe tbody tr th {\n",
       "        vertical-align: top;\n",
       "    }\n",
       "\n",
       "    .dataframe thead th {\n",
       "        text-align: right;\n",
       "    }\n",
       "</style>\n",
       "<table border=\"1\" class=\"dataframe\">\n",
       "  <thead>\n",
       "    <tr style=\"text-align: right;\">\n",
       "      <th></th>\n",
       "      <th>Airline</th>\n",
       "      <th>Date_of_Journey</th>\n",
       "      <th>Source</th>\n",
       "      <th>Destination</th>\n",
       "      <th>Route</th>\n",
       "      <th>Dep_Time</th>\n",
       "      <th>Arrival_Time</th>\n",
       "      <th>Duration</th>\n",
       "      <th>Total_Stops</th>\n",
       "      <th>Additional_Info</th>\n",
       "      <th>Price</th>\n",
       "    </tr>\n",
       "  </thead>\n",
       "  <tbody>\n",
       "    <tr>\n",
       "      <th>9039</th>\n",
       "      <td>Air India</td>\n",
       "      <td>6/05/2019</td>\n",
       "      <td>Delhi</td>\n",
       "      <td>Cochin</td>\n",
       "      <td>NaN</td>\n",
       "      <td>09:45</td>\n",
       "      <td>09:25 07 May</td>\n",
       "      <td>23h 40m</td>\n",
       "      <td>NaN</td>\n",
       "      <td>No info</td>\n",
       "      <td>7480</td>\n",
       "    </tr>\n",
       "  </tbody>\n",
       "</table>\n",
       "</div>"
      ],
      "text/plain": [
       "        Airline Date_of_Journey Source Destination Route Dep_Time  \\\n",
       "9039  Air India       6/05/2019  Delhi      Cochin   NaN    09:45   \n",
       "\n",
       "      Arrival_Time Duration Total_Stops Additional_Info  Price  \n",
       "9039  09:25 07 May  23h 40m         NaN         No info   7480  "
      ]
     },
     "execution_count": 19,
     "metadata": {},
     "output_type": "execute_result"
    }
   ],
   "source": [
    "df[df['Total_Stops'].isnull()]"
   ]
  },
  {
   "cell_type": "markdown",
   "id": "83081fc4",
   "metadata": {},
   "source": [
    "#### Additional_Info"
   ]
  },
  {
   "cell_type": "code",
   "execution_count": 20,
   "id": "6b0fa8f4",
   "metadata": {},
   "outputs": [
    {
     "data": {
      "text/plain": [
       "(array(['No info', 'In-flight meal not included',\n",
       "        'No check-in baggage included', '1 Short layover', 'No Info',\n",
       "        '1 Long layover', 'Change airports', 'Business class',\n",
       "        'Red-eye flight', '2 Long layover'], dtype=object),\n",
       " Additional_Info\n",
       " No info                         8345\n",
       " In-flight meal not included     1982\n",
       " No check-in baggage included     320\n",
       " 1 Long layover                    19\n",
       " Change airports                    7\n",
       " Business class                     4\n",
       " No Info                            3\n",
       " 1 Short layover                    1\n",
       " Red-eye flight                     1\n",
       " 2 Long layover                     1\n",
       " Name: count, dtype: int64)"
      ]
     },
     "execution_count": 20,
     "metadata": {},
     "output_type": "execute_result"
    }
   ],
   "source": [
    "df.Additional_Info.unique(), df.Additional_Info.value_counts()"
   ]
  },
  {
   "cell_type": "code",
   "execution_count": 21,
   "id": "4f287a04",
   "metadata": {},
   "outputs": [
    {
     "data": {
      "text/plain": [
       "0        No Info\n",
       "1        No Info\n",
       "2        No Info\n",
       "3        No Info\n",
       "4        No Info\n",
       "          ...   \n",
       "10678    No Info\n",
       "10679    No Info\n",
       "10680    No Info\n",
       "10681    No Info\n",
       "10682    No Info\n",
       "Name: Additional_Info, Length: 10683, dtype: object"
      ]
     },
     "execution_count": 21,
     "metadata": {},
     "output_type": "execute_result"
    }
   ],
   "source": [
    "(\n",
    "    df\n",
    "    .Additional_Info\n",
    "    .replace({'No info': 'No Info'})\n",
    ")"
   ]
  },
  {
   "cell_type": "markdown",
   "id": "6d33faed",
   "metadata": {},
   "source": [
    "### 5. Cleaning the Data"
   ]
  },
  {
   "cell_type": "code",
   "execution_count": 30,
   "id": "1bc5e93d-a2cb-4c75-9683-aff25b8bf03d",
   "metadata": {},
   "outputs": [],
   "source": [
    "def clean_data(data_frame):\n",
    "    return (\n",
    "        df\n",
    "        .drop(index=[6474, 9039])\n",
    "        .drop_duplicates()\n",
    "        .assign(**{\n",
    "            col : df[col].str.strip() for col in df.select_dtypes(include='O').columns\n",
    "        })\n",
    "        .assign(\n",
    "            Airline = lambda df_ : (\n",
    "                df_\n",
    "                .Airline\n",
    "                .replace(\n",
    "                    {'Multiple carriers Premium economy' : 'Multiple Carriers',\n",
    "                    'Multiple carriers' : 'Multiple Carriers',\n",
    "                    'Jet Airways Business' : 'Jet Airways',\n",
    "                    'Vistara Premium economy' : 'Vistara'})\n",
    "                ),\n",
    "            Date_of_Journey = lambda df_ : pd.to_datetime(df_['Date_of_Journey'], format='%d/%m/%Y'),\n",
    "            Dep_Time = lambda df_ : pd.to_datetime(df_['Dep_Time'], format='%H:%M').dt.time,\n",
    "            Arrival_Time = lambda df_ : pd.to_datetime(df_.Arrival_Time).dt.time,\n",
    "            Duration = lambda df_ : pd.to_timedelta(df.Duration).dt.total_seconds() / 60,\n",
    "            Total_Stops = lambda df_ : (\n",
    "                df_\n",
    "                .Total_Stops\n",
    "                .str.replace('non-stop', '0')\n",
    "                .str.replace(\" stops?\", \"\", regex=True)\n",
    "                .astype(int)\n",
    "                    ),\n",
    "            Additional_Info=lambda df_: (\n",
    "                df_\n",
    "                .Additional_Info\n",
    "                .replace(\"No info\", \"No Info\")\n",
    "            )\n",
    "        )\n",
    "        .drop(columns=['Route'])\n",
    "    )"
   ]
  },
  {
   "cell_type": "code",
   "execution_count": 31,
   "id": "7301d21d",
   "metadata": {},
   "outputs": [
    {
     "name": "stderr",
     "output_type": "stream",
     "text": [
      "C:\\Users\\Akanksha\\AppData\\Local\\Temp\\ipykernel_11828\\3266390937.py:21: UserWarning: Could not infer format, so each element will be parsed individually, falling back to `dateutil`. To ensure parsing is consistent and as-expected, please specify a format.\n",
      "  Arrival_Time = lambda df_ : pd.to_datetime(df_.Arrival_Time).dt.time,\n"
     ]
    },
    {
     "data": {
      "text/html": [
       "<div>\n",
       "<style scoped>\n",
       "    .dataframe tbody tr th:only-of-type {\n",
       "        vertical-align: middle;\n",
       "    }\n",
       "\n",
       "    .dataframe tbody tr th {\n",
       "        vertical-align: top;\n",
       "    }\n",
       "\n",
       "    .dataframe thead th {\n",
       "        text-align: right;\n",
       "    }\n",
       "</style>\n",
       "<table border=\"1\" class=\"dataframe\">\n",
       "  <thead>\n",
       "    <tr style=\"text-align: right;\">\n",
       "      <th></th>\n",
       "      <th>Airline</th>\n",
       "      <th>Date_of_Journey</th>\n",
       "      <th>Source</th>\n",
       "      <th>Destination</th>\n",
       "      <th>Dep_Time</th>\n",
       "      <th>Arrival_Time</th>\n",
       "      <th>Duration</th>\n",
       "      <th>Total_Stops</th>\n",
       "      <th>Additional_Info</th>\n",
       "      <th>Price</th>\n",
       "    </tr>\n",
       "  </thead>\n",
       "  <tbody>\n",
       "    <tr>\n",
       "      <th>0</th>\n",
       "      <td>IndiGo</td>\n",
       "      <td>2019-03-24</td>\n",
       "      <td>Banglore</td>\n",
       "      <td>New Delhi</td>\n",
       "      <td>22:20:00</td>\n",
       "      <td>01:10:00</td>\n",
       "      <td>170.0</td>\n",
       "      <td>0</td>\n",
       "      <td>No Info</td>\n",
       "      <td>3897</td>\n",
       "    </tr>\n",
       "    <tr>\n",
       "      <th>1</th>\n",
       "      <td>Air India</td>\n",
       "      <td>2019-05-01</td>\n",
       "      <td>Kolkata</td>\n",
       "      <td>Banglore</td>\n",
       "      <td>05:50:00</td>\n",
       "      <td>13:15:00</td>\n",
       "      <td>445.0</td>\n",
       "      <td>2</td>\n",
       "      <td>No Info</td>\n",
       "      <td>7662</td>\n",
       "    </tr>\n",
       "    <tr>\n",
       "      <th>2</th>\n",
       "      <td>Jet Airways</td>\n",
       "      <td>2019-06-09</td>\n",
       "      <td>Delhi</td>\n",
       "      <td>Cochin</td>\n",
       "      <td>09:25:00</td>\n",
       "      <td>04:25:00</td>\n",
       "      <td>1140.0</td>\n",
       "      <td>2</td>\n",
       "      <td>No Info</td>\n",
       "      <td>13882</td>\n",
       "    </tr>\n",
       "    <tr>\n",
       "      <th>3</th>\n",
       "      <td>IndiGo</td>\n",
       "      <td>2019-05-12</td>\n",
       "      <td>Kolkata</td>\n",
       "      <td>Banglore</td>\n",
       "      <td>18:05:00</td>\n",
       "      <td>23:30:00</td>\n",
       "      <td>325.0</td>\n",
       "      <td>1</td>\n",
       "      <td>No Info</td>\n",
       "      <td>6218</td>\n",
       "    </tr>\n",
       "    <tr>\n",
       "      <th>4</th>\n",
       "      <td>IndiGo</td>\n",
       "      <td>2019-03-01</td>\n",
       "      <td>Banglore</td>\n",
       "      <td>New Delhi</td>\n",
       "      <td>16:50:00</td>\n",
       "      <td>21:35:00</td>\n",
       "      <td>285.0</td>\n",
       "      <td>1</td>\n",
       "      <td>No Info</td>\n",
       "      <td>13302</td>\n",
       "    </tr>\n",
       "    <tr>\n",
       "      <th>...</th>\n",
       "      <td>...</td>\n",
       "      <td>...</td>\n",
       "      <td>...</td>\n",
       "      <td>...</td>\n",
       "      <td>...</td>\n",
       "      <td>...</td>\n",
       "      <td>...</td>\n",
       "      <td>...</td>\n",
       "      <td>...</td>\n",
       "      <td>...</td>\n",
       "    </tr>\n",
       "    <tr>\n",
       "      <th>10678</th>\n",
       "      <td>Air Asia</td>\n",
       "      <td>2019-04-09</td>\n",
       "      <td>Kolkata</td>\n",
       "      <td>Banglore</td>\n",
       "      <td>19:55:00</td>\n",
       "      <td>22:25:00</td>\n",
       "      <td>150.0</td>\n",
       "      <td>0</td>\n",
       "      <td>No Info</td>\n",
       "      <td>4107</td>\n",
       "    </tr>\n",
       "    <tr>\n",
       "      <th>10679</th>\n",
       "      <td>Air India</td>\n",
       "      <td>2019-04-27</td>\n",
       "      <td>Kolkata</td>\n",
       "      <td>Banglore</td>\n",
       "      <td>20:45:00</td>\n",
       "      <td>23:20:00</td>\n",
       "      <td>155.0</td>\n",
       "      <td>0</td>\n",
       "      <td>No Info</td>\n",
       "      <td>4145</td>\n",
       "    </tr>\n",
       "    <tr>\n",
       "      <th>10680</th>\n",
       "      <td>Jet Airways</td>\n",
       "      <td>2019-04-27</td>\n",
       "      <td>Banglore</td>\n",
       "      <td>Delhi</td>\n",
       "      <td>08:20:00</td>\n",
       "      <td>11:20:00</td>\n",
       "      <td>180.0</td>\n",
       "      <td>0</td>\n",
       "      <td>No Info</td>\n",
       "      <td>7229</td>\n",
       "    </tr>\n",
       "    <tr>\n",
       "      <th>10681</th>\n",
       "      <td>Vistara</td>\n",
       "      <td>2019-03-01</td>\n",
       "      <td>Banglore</td>\n",
       "      <td>New Delhi</td>\n",
       "      <td>11:30:00</td>\n",
       "      <td>14:10:00</td>\n",
       "      <td>160.0</td>\n",
       "      <td>0</td>\n",
       "      <td>No Info</td>\n",
       "      <td>12648</td>\n",
       "    </tr>\n",
       "    <tr>\n",
       "      <th>10682</th>\n",
       "      <td>Air India</td>\n",
       "      <td>2019-05-09</td>\n",
       "      <td>Delhi</td>\n",
       "      <td>Cochin</td>\n",
       "      <td>10:55:00</td>\n",
       "      <td>19:15:00</td>\n",
       "      <td>500.0</td>\n",
       "      <td>2</td>\n",
       "      <td>No Info</td>\n",
       "      <td>11753</td>\n",
       "    </tr>\n",
       "  </tbody>\n",
       "</table>\n",
       "<p>10461 rows × 10 columns</p>\n",
       "</div>"
      ],
      "text/plain": [
       "           Airline Date_of_Journey    Source Destination  Dep_Time  \\\n",
       "0           IndiGo      2019-03-24  Banglore   New Delhi  22:20:00   \n",
       "1        Air India      2019-05-01   Kolkata    Banglore  05:50:00   \n",
       "2      Jet Airways      2019-06-09     Delhi      Cochin  09:25:00   \n",
       "3           IndiGo      2019-05-12   Kolkata    Banglore  18:05:00   \n",
       "4           IndiGo      2019-03-01  Banglore   New Delhi  16:50:00   \n",
       "...            ...             ...       ...         ...       ...   \n",
       "10678     Air Asia      2019-04-09   Kolkata    Banglore  19:55:00   \n",
       "10679    Air India      2019-04-27   Kolkata    Banglore  20:45:00   \n",
       "10680  Jet Airways      2019-04-27  Banglore       Delhi  08:20:00   \n",
       "10681      Vistara      2019-03-01  Banglore   New Delhi  11:30:00   \n",
       "10682    Air India      2019-05-09     Delhi      Cochin  10:55:00   \n",
       "\n",
       "      Arrival_Time  Duration  Total_Stops Additional_Info  Price  \n",
       "0         01:10:00     170.0            0         No Info   3897  \n",
       "1         13:15:00     445.0            2         No Info   7662  \n",
       "2         04:25:00    1140.0            2         No Info  13882  \n",
       "3         23:30:00     325.0            1         No Info   6218  \n",
       "4         21:35:00     285.0            1         No Info  13302  \n",
       "...            ...       ...          ...             ...    ...  \n",
       "10678     22:25:00     150.0            0         No Info   4107  \n",
       "10679     23:20:00     155.0            0         No Info   4145  \n",
       "10680     11:20:00     180.0            0         No Info   7229  \n",
       "10681     14:10:00     160.0            0         No Info  12648  \n",
       "10682     19:15:00     500.0            2         No Info  11753  \n",
       "\n",
       "[10461 rows x 10 columns]"
      ]
     },
     "execution_count": 31,
     "metadata": {},
     "output_type": "execute_result"
    }
   ],
   "source": [
    "final_flights_df = clean_data(df)\n",
    "final_flights_df"
   ]
  },
  {
   "cell_type": "markdown",
   "id": "f7986bae",
   "metadata": {},
   "source": [
    "### 6. Splitting the Dataset"
   ]
  },
  {
   "cell_type": "code",
   "execution_count": 32,
   "id": "e4d35907",
   "metadata": {},
   "outputs": [],
   "source": [
    "X = final_flights_df.drop(columns=['Price'])\n",
    "y = final_flights_df['Price']"
   ]
  },
  {
   "cell_type": "code",
   "execution_count": 33,
   "id": "a9406c77",
   "metadata": {},
   "outputs": [
    {
     "name": "stdout",
     "output_type": "stream",
     "text": [
      "(6694, 9) (1674, 9) (2093, 9)\n",
      "(6694,) (1674,) (2093,)\n"
     ]
    }
   ],
   "source": [
    "X_, X_test, y_, y_test = train_test_split(X, y, test_size=0.2, random_state=37)\n",
    "X_train, X_val, y_train, y_val = train_test_split(X_, y_, test_size=0.2, random_state=37)\n",
    "\n",
    "print(X_train.shape, X_val.shape, X_test.shape)\n",
    "print(y_train.shape, y_val.shape, y_test.shape)"
   ]
  },
  {
   "cell_type": "markdown",
   "id": "22efe9bd",
   "metadata": {},
   "source": [
    "### 7. Export the Dataset"
   ]
  },
  {
   "cell_type": "code",
   "execution_count": 34,
   "id": "715571e3",
   "metadata": {},
   "outputs": [],
   "source": [
    "def export_file(X, y, name):\n",
    "    filename = f'{name}.csv'\n",
    "    filepath = os.path.join(project_dir, data_dir, filename)\n",
    "    X.join(y).to_csv(filepath, index=False)\n",
    "    return pd.read_csv(filepath).head()"
   ]
  },
  {
   "cell_type": "code",
   "execution_count": 35,
   "id": "f738aad6",
   "metadata": {},
   "outputs": [
    {
     "data": {
      "text/html": [
       "<div>\n",
       "<style scoped>\n",
       "    .dataframe tbody tr th:only-of-type {\n",
       "        vertical-align: middle;\n",
       "    }\n",
       "\n",
       "    .dataframe tbody tr th {\n",
       "        vertical-align: top;\n",
       "    }\n",
       "\n",
       "    .dataframe thead th {\n",
       "        text-align: right;\n",
       "    }\n",
       "</style>\n",
       "<table border=\"1\" class=\"dataframe\">\n",
       "  <thead>\n",
       "    <tr style=\"text-align: right;\">\n",
       "      <th></th>\n",
       "      <th>Airline</th>\n",
       "      <th>Date_of_Journey</th>\n",
       "      <th>Source</th>\n",
       "      <th>Destination</th>\n",
       "      <th>Dep_Time</th>\n",
       "      <th>Arrival_Time</th>\n",
       "      <th>Duration</th>\n",
       "      <th>Total_Stops</th>\n",
       "      <th>Additional_Info</th>\n",
       "      <th>Price</th>\n",
       "    </tr>\n",
       "  </thead>\n",
       "  <tbody>\n",
       "    <tr>\n",
       "      <th>0</th>\n",
       "      <td>SpiceJet</td>\n",
       "      <td>2019-05-24</td>\n",
       "      <td>Banglore</td>\n",
       "      <td>Delhi</td>\n",
       "      <td>21:10:00</td>\n",
       "      <td>00:05:00</td>\n",
       "      <td>175.0</td>\n",
       "      <td>0</td>\n",
       "      <td>No Info</td>\n",
       "      <td>3971</td>\n",
       "    </tr>\n",
       "    <tr>\n",
       "      <th>1</th>\n",
       "      <td>IndiGo</td>\n",
       "      <td>2019-04-12</td>\n",
       "      <td>Banglore</td>\n",
       "      <td>Delhi</td>\n",
       "      <td>18:55:00</td>\n",
       "      <td>21:50:00</td>\n",
       "      <td>175.0</td>\n",
       "      <td>0</td>\n",
       "      <td>No Info</td>\n",
       "      <td>5780</td>\n",
       "    </tr>\n",
       "    <tr>\n",
       "      <th>2</th>\n",
       "      <td>IndiGo</td>\n",
       "      <td>2019-05-03</td>\n",
       "      <td>Chennai</td>\n",
       "      <td>Kolkata</td>\n",
       "      <td>11:35:00</td>\n",
       "      <td>14:00:00</td>\n",
       "      <td>145.0</td>\n",
       "      <td>0</td>\n",
       "      <td>No Info</td>\n",
       "      <td>4332</td>\n",
       "    </tr>\n",
       "    <tr>\n",
       "      <th>3</th>\n",
       "      <td>Multiple Carriers</td>\n",
       "      <td>2019-06-27</td>\n",
       "      <td>Delhi</td>\n",
       "      <td>Cochin</td>\n",
       "      <td>07:00:00</td>\n",
       "      <td>19:00:00</td>\n",
       "      <td>720.0</td>\n",
       "      <td>1</td>\n",
       "      <td>No Info</td>\n",
       "      <td>12192</td>\n",
       "    </tr>\n",
       "    <tr>\n",
       "      <th>4</th>\n",
       "      <td>Jet Airways</td>\n",
       "      <td>2019-05-21</td>\n",
       "      <td>Kolkata</td>\n",
       "      <td>Banglore</td>\n",
       "      <td>06:30:00</td>\n",
       "      <td>16:20:00</td>\n",
       "      <td>590.0</td>\n",
       "      <td>1</td>\n",
       "      <td>No Info</td>\n",
       "      <td>14781</td>\n",
       "    </tr>\n",
       "  </tbody>\n",
       "</table>\n",
       "</div>"
      ],
      "text/plain": [
       "             Airline Date_of_Journey    Source Destination  Dep_Time  \\\n",
       "0           SpiceJet      2019-05-24  Banglore       Delhi  21:10:00   \n",
       "1             IndiGo      2019-04-12  Banglore       Delhi  18:55:00   \n",
       "2             IndiGo      2019-05-03   Chennai     Kolkata  11:35:00   \n",
       "3  Multiple Carriers      2019-06-27     Delhi      Cochin  07:00:00   \n",
       "4        Jet Airways      2019-05-21   Kolkata    Banglore  06:30:00   \n",
       "\n",
       "  Arrival_Time  Duration  Total_Stops Additional_Info  Price  \n",
       "0     00:05:00     175.0            0         No Info   3971  \n",
       "1     21:50:00     175.0            0         No Info   5780  \n",
       "2     14:00:00     145.0            0         No Info   4332  \n",
       "3     19:00:00     720.0            1         No Info  12192  \n",
       "4     16:20:00     590.0            1         No Info  14781  "
      ]
     },
     "execution_count": 35,
     "metadata": {},
     "output_type": "execute_result"
    }
   ],
   "source": [
    "export_file(X_train, y_train, 'train')"
   ]
  },
  {
   "cell_type": "code",
   "execution_count": 36,
   "id": "3644951c",
   "metadata": {},
   "outputs": [
    {
     "data": {
      "text/html": [
       "<div>\n",
       "<style scoped>\n",
       "    .dataframe tbody tr th:only-of-type {\n",
       "        vertical-align: middle;\n",
       "    }\n",
       "\n",
       "    .dataframe tbody tr th {\n",
       "        vertical-align: top;\n",
       "    }\n",
       "\n",
       "    .dataframe thead th {\n",
       "        text-align: right;\n",
       "    }\n",
       "</style>\n",
       "<table border=\"1\" class=\"dataframe\">\n",
       "  <thead>\n",
       "    <tr style=\"text-align: right;\">\n",
       "      <th></th>\n",
       "      <th>Airline</th>\n",
       "      <th>Date_of_Journey</th>\n",
       "      <th>Source</th>\n",
       "      <th>Destination</th>\n",
       "      <th>Dep_Time</th>\n",
       "      <th>Arrival_Time</th>\n",
       "      <th>Duration</th>\n",
       "      <th>Total_Stops</th>\n",
       "      <th>Additional_Info</th>\n",
       "      <th>Price</th>\n",
       "    </tr>\n",
       "  </thead>\n",
       "  <tbody>\n",
       "    <tr>\n",
       "      <th>0</th>\n",
       "      <td>IndiGo</td>\n",
       "      <td>2019-04-12</td>\n",
       "      <td>Banglore</td>\n",
       "      <td>Delhi</td>\n",
       "      <td>07:10:00</td>\n",
       "      <td>10:05:00</td>\n",
       "      <td>175.0</td>\n",
       "      <td>0</td>\n",
       "      <td>No Info</td>\n",
       "      <td>4823</td>\n",
       "    </tr>\n",
       "    <tr>\n",
       "      <th>1</th>\n",
       "      <td>Air India</td>\n",
       "      <td>2019-05-21</td>\n",
       "      <td>Kolkata</td>\n",
       "      <td>Banglore</td>\n",
       "      <td>09:25:00</td>\n",
       "      <td>13:45:00</td>\n",
       "      <td>1700.0</td>\n",
       "      <td>2</td>\n",
       "      <td>No Info</td>\n",
       "      <td>11542</td>\n",
       "    </tr>\n",
       "    <tr>\n",
       "      <th>2</th>\n",
       "      <td>Air India</td>\n",
       "      <td>2019-06-24</td>\n",
       "      <td>Delhi</td>\n",
       "      <td>Cochin</td>\n",
       "      <td>09:45:00</td>\n",
       "      <td>09:25:00</td>\n",
       "      <td>1420.0</td>\n",
       "      <td>2</td>\n",
       "      <td>No Info</td>\n",
       "      <td>10975</td>\n",
       "    </tr>\n",
       "    <tr>\n",
       "      <th>3</th>\n",
       "      <td>Jet Airways</td>\n",
       "      <td>2019-06-12</td>\n",
       "      <td>Delhi</td>\n",
       "      <td>Cochin</td>\n",
       "      <td>09:35:00</td>\n",
       "      <td>04:25:00</td>\n",
       "      <td>1130.0</td>\n",
       "      <td>2</td>\n",
       "      <td>No Info</td>\n",
       "      <td>13292</td>\n",
       "    </tr>\n",
       "    <tr>\n",
       "      <th>4</th>\n",
       "      <td>IndiGo</td>\n",
       "      <td>2019-03-09</td>\n",
       "      <td>Banglore</td>\n",
       "      <td>New Delhi</td>\n",
       "      <td>16:55:00</td>\n",
       "      <td>19:45:00</td>\n",
       "      <td>170.0</td>\n",
       "      <td>0</td>\n",
       "      <td>No Info</td>\n",
       "      <td>10067</td>\n",
       "    </tr>\n",
       "  </tbody>\n",
       "</table>\n",
       "</div>"
      ],
      "text/plain": [
       "       Airline Date_of_Journey    Source Destination  Dep_Time Arrival_Time  \\\n",
       "0       IndiGo      2019-04-12  Banglore       Delhi  07:10:00     10:05:00   \n",
       "1    Air India      2019-05-21   Kolkata    Banglore  09:25:00     13:45:00   \n",
       "2    Air India      2019-06-24     Delhi      Cochin  09:45:00     09:25:00   \n",
       "3  Jet Airways      2019-06-12     Delhi      Cochin  09:35:00     04:25:00   \n",
       "4       IndiGo      2019-03-09  Banglore   New Delhi  16:55:00     19:45:00   \n",
       "\n",
       "   Duration  Total_Stops Additional_Info  Price  \n",
       "0     175.0            0         No Info   4823  \n",
       "1    1700.0            2         No Info  11542  \n",
       "2    1420.0            2         No Info  10975  \n",
       "3    1130.0            2         No Info  13292  \n",
       "4     170.0            0         No Info  10067  "
      ]
     },
     "execution_count": 36,
     "metadata": {},
     "output_type": "execute_result"
    }
   ],
   "source": [
    "export_file(X_val, y_val, 'val')"
   ]
  },
  {
   "cell_type": "code",
   "execution_count": 37,
   "id": "fb35dbda",
   "metadata": {},
   "outputs": [
    {
     "data": {
      "text/html": [
       "<div>\n",
       "<style scoped>\n",
       "    .dataframe tbody tr th:only-of-type {\n",
       "        vertical-align: middle;\n",
       "    }\n",
       "\n",
       "    .dataframe tbody tr th {\n",
       "        vertical-align: top;\n",
       "    }\n",
       "\n",
       "    .dataframe thead th {\n",
       "        text-align: right;\n",
       "    }\n",
       "</style>\n",
       "<table border=\"1\" class=\"dataframe\">\n",
       "  <thead>\n",
       "    <tr style=\"text-align: right;\">\n",
       "      <th></th>\n",
       "      <th>Airline</th>\n",
       "      <th>Date_of_Journey</th>\n",
       "      <th>Source</th>\n",
       "      <th>Destination</th>\n",
       "      <th>Dep_Time</th>\n",
       "      <th>Arrival_Time</th>\n",
       "      <th>Duration</th>\n",
       "      <th>Total_Stops</th>\n",
       "      <th>Additional_Info</th>\n",
       "      <th>Price</th>\n",
       "    </tr>\n",
       "  </thead>\n",
       "  <tbody>\n",
       "    <tr>\n",
       "      <th>0</th>\n",
       "      <td>Jet Airways</td>\n",
       "      <td>2019-06-09</td>\n",
       "      <td>Delhi</td>\n",
       "      <td>Cochin</td>\n",
       "      <td>05:30:00</td>\n",
       "      <td>04:25:00</td>\n",
       "      <td>1375.0</td>\n",
       "      <td>2</td>\n",
       "      <td>No Info</td>\n",
       "      <td>13014</td>\n",
       "    </tr>\n",
       "    <tr>\n",
       "      <th>1</th>\n",
       "      <td>SpiceJet</td>\n",
       "      <td>2019-06-24</td>\n",
       "      <td>Kolkata</td>\n",
       "      <td>Banglore</td>\n",
       "      <td>22:20:00</td>\n",
       "      <td>00:40:00</td>\n",
       "      <td>140.0</td>\n",
       "      <td>0</td>\n",
       "      <td>No check-in baggage included</td>\n",
       "      <td>3841</td>\n",
       "    </tr>\n",
       "    <tr>\n",
       "      <th>2</th>\n",
       "      <td>Air Asia</td>\n",
       "      <td>2019-04-18</td>\n",
       "      <td>Banglore</td>\n",
       "      <td>Delhi</td>\n",
       "      <td>04:55:00</td>\n",
       "      <td>07:45:00</td>\n",
       "      <td>170.0</td>\n",
       "      <td>0</td>\n",
       "      <td>No Info</td>\n",
       "      <td>4282</td>\n",
       "    </tr>\n",
       "    <tr>\n",
       "      <th>3</th>\n",
       "      <td>Air India</td>\n",
       "      <td>2019-04-09</td>\n",
       "      <td>Delhi</td>\n",
       "      <td>Cochin</td>\n",
       "      <td>17:15:00</td>\n",
       "      <td>07:40:00</td>\n",
       "      <td>865.0</td>\n",
       "      <td>2</td>\n",
       "      <td>No Info</td>\n",
       "      <td>8052</td>\n",
       "    </tr>\n",
       "    <tr>\n",
       "      <th>4</th>\n",
       "      <td>Jet Airways</td>\n",
       "      <td>2019-06-12</td>\n",
       "      <td>Kolkata</td>\n",
       "      <td>Banglore</td>\n",
       "      <td>14:05:00</td>\n",
       "      <td>18:15:00</td>\n",
       "      <td>1690.0</td>\n",
       "      <td>1</td>\n",
       "      <td>In-flight meal not included</td>\n",
       "      <td>8529</td>\n",
       "    </tr>\n",
       "  </tbody>\n",
       "</table>\n",
       "</div>"
      ],
      "text/plain": [
       "       Airline Date_of_Journey    Source Destination  Dep_Time Arrival_Time  \\\n",
       "0  Jet Airways      2019-06-09     Delhi      Cochin  05:30:00     04:25:00   \n",
       "1     SpiceJet      2019-06-24   Kolkata    Banglore  22:20:00     00:40:00   \n",
       "2     Air Asia      2019-04-18  Banglore       Delhi  04:55:00     07:45:00   \n",
       "3    Air India      2019-04-09     Delhi      Cochin  17:15:00     07:40:00   \n",
       "4  Jet Airways      2019-06-12   Kolkata    Banglore  14:05:00     18:15:00   \n",
       "\n",
       "   Duration  Total_Stops               Additional_Info  Price  \n",
       "0    1375.0            2                       No Info  13014  \n",
       "1     140.0            0  No check-in baggage included   3841  \n",
       "2     170.0            0                       No Info   4282  \n",
       "3     865.0            2                       No Info   8052  \n",
       "4    1690.0            1   In-flight meal not included   8529  "
      ]
     },
     "execution_count": 37,
     "metadata": {},
     "output_type": "execute_result"
    }
   ],
   "source": [
    "export_file(X_test, y_test, 'test')"
   ]
  },
  {
   "cell_type": "code",
   "execution_count": null,
   "id": "f6c21a87",
   "metadata": {},
   "outputs": [],
   "source": []
  }
 ],
 "metadata": {
  "kernelspec": {
   "display_name": "Python 3 (ipykernel)",
   "language": "python",
   "name": "python3"
  },
  "language_info": {
   "codemirror_mode": {
    "name": "ipython",
    "version": 3
   },
   "file_extension": ".py",
   "mimetype": "text/x-python",
   "name": "python",
   "nbconvert_exporter": "python",
   "pygments_lexer": "ipython3",
   "version": "3.11.7"
  }
 },
 "nbformat": 4,
 "nbformat_minor": 5
}
